{
 "cells": [
  {
   "cell_type": "code",
   "execution_count": null,
   "id": "9c5cfc14",
   "metadata": {},
   "outputs": [],
   "source": [
    "Problem-1\n",
    "Your friend measures his body temperature using a thermometer and finds the\n",
    "reading to be 100 degree Farenheit. Can you please let us know the reading in Celsius scale?"
   ]
  },
  {
   "cell_type": "code",
   "execution_count": 1,
   "id": "b1c2b946",
   "metadata": {},
   "outputs": [
    {
     "data": {
      "text/plain": [
       "37.77777777777778"
      ]
     },
     "execution_count": 1,
     "metadata": {},
     "output_type": "execute_result"
    }
   ],
   "source": [
    "F = 100\n",
    "C = (F - 32)*(5/9)\n",
    "C"
   ]
  },
  {
   "cell_type": "code",
   "execution_count": null,
   "id": "629c398c",
   "metadata": {},
   "outputs": [],
   "source": [
    "Problem-2\n",
    "The cost of producing x unit of item in a factory is y. Cost y is related\n",
    "to unit x by the following formula\n",
    "y= ax^2+bx+c where\n",
    "a, b, c are constants having value 2, 5, 1020 respectively.\n",
    "In this text (not in python language) ^ represents raised to the power.\n",
    "If management wants to produce 10,000 quantities of product, please let us know\n",
    "the average manufacturing cost for a single item."
   ]
  },
  {
   "cell_type": "code",
   "execution_count": 2,
   "id": "90be3149",
   "metadata": {},
   "outputs": [
    {
     "data": {
      "text/plain": [
       "20005.102"
      ]
     },
     "execution_count": 2,
     "metadata": {},
     "output_type": "execute_result"
    }
   ],
   "source": [
    "a=2\n",
    "b=5\n",
    "c=1020\n",
    "\n",
    "x = 10000\n",
    "\n",
    "y = a*(x**2) + (b*x) + c\n",
    "y/10000"
   ]
  },
  {
   "cell_type": "code",
   "execution_count": null,
   "id": "6c457c94",
   "metadata": {},
   "outputs": [],
   "source": []
  }
 ],
 "metadata": {
  "kernelspec": {
   "display_name": "Python 3 (ipykernel)",
   "language": "python",
   "name": "python3"
  },
  "language_info": {
   "codemirror_mode": {
    "name": "ipython",
    "version": 3
   },
   "file_extension": ".py",
   "mimetype": "text/x-python",
   "name": "python",
   "nbconvert_exporter": "python",
   "pygments_lexer": "ipython3",
   "version": "3.9.7"
  }
 },
 "nbformat": 4,
 "nbformat_minor": 5
}
